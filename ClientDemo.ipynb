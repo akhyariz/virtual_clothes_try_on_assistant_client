{
  "cells": [
    {
      "cell_type": "code",
      "execution_count": null,
      "metadata": {
        "id": "2RCn7Nl-KQ1l"
      },
      "outputs": [],
      "source": [
        "!rm -rf /content/virtual_clothes_try_on_assistant_client\n",
        "!git clone https://github.com/akhyariz/virtual_clothes_try_on_assistant_client.git\n",
        "!pip install pyngrok==4.1.1\n",
        "!pip install flask-ngrok pillow requests\n",
        "!ngrok authtoken <<YOUR NGROK AUTHTOKEN HERE>>"
      ]
    },
    {
      "cell_type": "code",
      "execution_count": null,
      "metadata": {
        "id": "bX0Zmql8N4kE"
      },
      "outputs": [],
      "source": [
        "!python /content/virtual_clothes_try_on_assistant_client/app.py"
      ]
    }
  ],
  "metadata": {
    "colab": {
      "provenance": []
    },
    "kernelspec": {
      "display_name": "Python 3",
      "name": "python3"
    },
    "language_info": {
      "name": "python"
    }
  },
  "nbformat": 4,
  "nbformat_minor": 0
}
